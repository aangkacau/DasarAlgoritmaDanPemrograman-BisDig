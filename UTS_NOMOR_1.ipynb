{
  "nbformat": 4,
  "nbformat_minor": 0,
  "metadata": {
    "colab": {
      "provenance": []
    },
    "kernelspec": {
      "name": "python3",
      "display_name": "Python 3"
    },
    "language_info": {
      "name": "python"
    }
  },
  "cells": [
    {
      "cell_type": "code",
      "execution_count": null,
      "metadata": {
        "colab": {
          "base_uri": "https://localhost:8080/"
        },
        "id": "kK0UTl4YIcu3",
        "outputId": "ddb1dd06-cdb6-41ea-e5d8-cc97dd45d36f"
      },
      "outputs": [
        {
          "output_type": "stream",
          "name": "stdout",
          "text": [
            "Masukkan total belanja Anda: Rp600000\n",
            "Selamat! Anda mendapatkan diskon 10%.\n",
            "Total yang harus dibayar: Rp540000.00\n"
          ]
        }
      ],
      "source": [
        "# Program menghitung total bayar setelah diskon\n",
        "\n",
        "# Meminta input dari pengguna\n",
        "total_belanja = float(input(\"Masukkan total belanja Anda: Rp\"))\n",
        "\n",
        "# Inisialisasi diskon\n",
        "diskon = 0\n",
        "\n",
        "# Struktur percabangan untuk pemberian diskon\n",
        "if total_belanja > 500000:\n",
        "    diskon = 0.10 * total_belanja\n",
        "    print(\"Selamat! Anda mendapatkan diskon 10%.\")\n",
        "\n",
        "# Hitung total yang harus dibayar\n",
        "total_bayar = total_belanja - diskon\n",
        "\n",
        "# Tampilkan hasil\n",
        "print(f\"Total yang harus dibayar: Rp{total_bayar:.2f}\")\n"
      ]
    }
  ]
}