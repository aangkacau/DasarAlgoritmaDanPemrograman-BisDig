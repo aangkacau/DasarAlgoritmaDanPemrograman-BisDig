{
  "nbformat": 4,
  "nbformat_minor": 0,
  "metadata": {
    "colab": {
      "provenance": []
    },
    "kernelspec": {
      "name": "python3",
      "display_name": "Python 3"
    },
    "language_info": {
      "name": "python"
    }
  },
  "cells": [
    {
      "cell_type": "code",
      "execution_count": null,
      "metadata": {
        "colab": {
          "base_uri": "https://localhost:8080/"
        },
        "id": "lGLLpSXNKdZQ",
        "outputId": "efb84679-10ee-4b6b-eb7c-f247a4f6edef"
      },
      "outputs": [
        {
          "output_type": "stream",
          "name": "stdout",
          "text": [
            "Masukkan nilai pertama: 82\n",
            "Masukkan nilai kedua: 79\n",
            "Masukkan nilai ketiga: 85\n",
            "Rata-rata nilai: 82.00\n",
            "Status: LULUS\n"
          ]
        }
      ],
      "source": [
        "# Program untuk menghitung rata-rata nilai dan menentukan kelulusan\n",
        "\n",
        "# Input nilai dari 3 mata pelajaran\n",
        "nilai1 = float(input(\"Masukkan nilai pertama: \"))\n",
        "nilai2 = float(input(\"Masukkan nilai kedua: \"))\n",
        "nilai3 = float(input(\"Masukkan nilai ketiga: \"))\n",
        "\n",
        "# Hitung rata-rata\n",
        "rata_rata = (nilai1 + nilai2 + nilai3) / 3\n",
        "\n",
        "# Tampilkan hasil\n",
        "print(f\"Rata-rata nilai: {rata_rata:.2f}\")\n",
        "\n",
        "# Cek kelulusan\n",
        "if rata_rata >= 75:\n",
        "    print(\"Status: LULUS\")\n",
        "else:\n",
        "    print(\"Status: TIDAK LULUS\")\n"
      ]
    }
  ]
}