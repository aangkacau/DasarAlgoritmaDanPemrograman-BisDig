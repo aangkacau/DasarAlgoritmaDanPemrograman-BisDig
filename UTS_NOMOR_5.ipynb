{
  "nbformat": 4,
  "nbformat_minor": 0,
  "metadata": {
    "colab": {
      "provenance": []
    },
    "kernelspec": {
      "name": "python3",
      "display_name": "Python 3"
    },
    "language_info": {
      "name": "python"
    }
  },
  "cells": [
    {
      "cell_type": "code",
      "execution_count": null,
      "metadata": {
        "colab": {
          "base_uri": "https://localhost:8080/"
        },
        "id": "PNf75GIVNh1m",
        "outputId": "d4264d31-5fe0-4418-8d21-214641b7c0c7"
      },
      "outputs": [
        {
          "output_type": "stream",
          "name": "stdout",
          "text": [
            "Masukkan harga barang pertama: 22.000\n",
            "Masukkan harga barang kedua: 31.000\n",
            "Masukkan harga barang ketiga: 25.000\n",
            "Total harga pembelian adalah: Rp78.0\n"
          ]
        }
      ],
      "source": [
        "# Input harga dari 3 barang\n",
        "harga1 = float(input(\"Masukkan harga barang pertama: \"))\n",
        "harga2 = float(input(\"Masukkan harga barang kedua: \"))\n",
        "harga3 = float(input(\"Masukkan harga barang ketiga: \"))\n",
        "\n",
        "# Hitung total\n",
        "total = harga1 + harga2 + harga3\n",
        "\n",
        "# Tampilkan hasil\n",
        "print(f\"Total harga pembelian adalah: Rp{total}\")\n"
      ]
    }
  ]
}