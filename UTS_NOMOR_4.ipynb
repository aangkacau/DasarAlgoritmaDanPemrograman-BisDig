{
  "nbformat": 4,
  "nbformat_minor": 0,
  "metadata": {
    "colab": {
      "provenance": []
    },
    "kernelspec": {
      "name": "python3",
      "display_name": "Python 3"
    },
    "language_info": {
      "name": "python"
    }
  },
  "cells": [
    {
      "cell_type": "code",
      "execution_count": null,
      "metadata": {
        "id": "AuCbhq2yL4kj",
        "colab": {
          "base_uri": "https://localhost:8080/"
        },
        "outputId": "42131023-f6f9-44e1-cd72-d98c13cfdbb4"
      },
      "outputs": [
        {
          "output_type": "stream",
          "name": "stdout",
          "text": [
            "Masukkan nilai siswa ke-1: 80\n",
            "Masukkan nilai siswa ke-2: 83\n",
            "Masukkan nilai siswa ke-3: 78\n",
            "Masukkan nilai siswa ke-4: 79\n",
            "Masukkan nilai siswa ke-5: 81\n",
            "Nilai tertinggi adalah 83 dan diperoleh oleh siswa ke-2\n"
          ]
        }
      ],
      "source": [
        "# Inisialisasi list kosong\n",
        "nilai_siswa = []\n",
        "\n",
        "# Input nilai 5 siswa dengan perulangan\n",
        "for i in range(5):\n",
        "    nilai = int(input(f\"Masukkan nilai siswa ke-{i+1}: \"))\n",
        "    nilai_siswa.append(nilai)\n",
        "\n",
        "# Mencari nilai tertinggi\n",
        "nilai_tertinggi = max(nilai_siswa)\n",
        "siswa_tertinggi = nilai_siswa.index(nilai_tertinggi) + 1  # +1 agar sesuai urutan siswa\n",
        "\n",
        "# Output\n",
        "print(f\"Nilai tertinggi adalah {nilai_tertinggi} dan diperoleh oleh siswa ke-{siswa_tertinggi}\")"
      ]
    }
  ]
}